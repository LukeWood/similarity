{
 "cells": [
  {
   "cell_type": "code",
   "execution_count": 18,
   "id": "1f23fd47-1204-4b07-849e-2e427b602b2f",
   "metadata": {},
   "outputs": [],
   "source": [
    "import os\n",
    "import random\n",
    "import functools\n",
    "from time import time\n",
    "\n",
    "import numpy as np\n",
    "from IPython.display import Markdown, display\n",
    "from matplotlib import pyplot as plt\n",
    "from mpl_toolkits import axes_grid1\n",
    "\n",
    "# INFO messages are not printed.\n",
    "# This must be run before loading other modules.\n",
    "os.environ[\"TF_CPP_MIN_LOG_LEVEL\"] = \"1\""
   ]
  },
  {
   "cell_type": "code",
   "execution_count": 2,
   "id": "52c874fc-63ea-4a3f-9048-76b5d3f4fd19",
   "metadata": {},
   "outputs": [],
   "source": [
    "import tensorflow as tf"
   ]
  },
  {
   "cell_type": "code",
   "execution_count": 3,
   "id": "3dc5b1a9-827f-4a5f-b08f-7dcb259ad6e3",
   "metadata": {},
   "outputs": [
    {
     "name": "stderr",
     "output_type": "stream",
     "text": [
      "Your CPU supports instructions that this binary was not compiled to use: SSE3 SSE4.1 SSE4.2 AVX AVX2\n",
      "For maximum performance, you can install NMSLIB from sources \n",
      "pip install --no-binary :all: nmslib\n"
     ]
    }
   ],
   "source": [
    "# install TF similarity if needed\n",
    "try:\n",
    "    import tensorflow_similarity as tfsim  # main package\n",
    "except ModuleNotFoundError:\n",
    "    !pip install tfsim-nightly\n",
    "    import tensorflow_similarity as tfsim"
   ]
  },
  {
   "cell_type": "code",
   "execution_count": 4,
   "id": "3d60789b-3138-4eac-9081-05d2bb877f31",
   "metadata": {},
   "outputs": [
    {
     "name": "stdout",
     "output_type": "stream",
     "text": [
      "Physical devices cannot be modified after being initialized\n"
     ]
    }
   ],
   "source": [
    "tfsim.utils.tf_cap_memory()  # Avoid GPU memory blow up"
   ]
  },
  {
   "cell_type": "code",
   "execution_count": 24,
   "id": "685127ae-4ca9-42fd-9403-e4e49cfb4e14",
   "metadata": {},
   "outputs": [],
   "source": [
    "# preprocessing function that resizes images to ensure all images are the same shape\n",
    "def resize(img, label, size=300):\n",
    "    with tf.device(\"/cpu:0\"):\n",
    "        img = tf.image.resize_with_pad(img, size, size)\n",
    "        return img, label"
   ]
  },
  {
   "cell_type": "code",
   "execution_count": 25,
   "id": "ca38caac-9c9f-4e5b-bcbf-746ba6af1e19",
   "metadata": {},
   "outputs": [
    {
     "name": "stdout",
     "output_type": "stream",
     "text": [
      "Class IDs seen during training [113, 106, 57, 108, 34, 101, 94, 168, 159, 144, 192, 88, 15, 189, 26, 177, 130, 166, 176, 78, 191, 151, 32, 51, 111, 103, 58, 100, 31, 47, 13, 50, 134, 155, 116, 4, 194, 167, 169, 165, 20, 81, 153, 86, 87, 145, 35, 160, 180, 188, 7, 49, 67, 120, 110, 129, 56, 158, 133, 39, 115, 16, 131, 172, 5, 98, 11, 42, 79, 148, 154, 52, 40, 117, 122, 66, 83, 71, 186, 61, 182, 36, 6, 60, 195, 29, 156, 55, 97, 10, 3, 92, 1, 28, 82, 93, 30, 163]\n"
     ]
    },
    {
     "data": {
      "application/vnd.jupyter.widget-view+json": {
       "model_id": "48ab06ee3f4f49b3bcf4c735db39680a",
       "version_major": 2,
       "version_minor": 0
      },
      "text/plain": [
       "converting train:   0%|          | 0/8144 [00:00<?, ?it/s]"
      ]
     },
     "metadata": {},
     "output_type": "display_data"
    },
    {
     "data": {
      "application/vnd.jupyter.widget-view+json": {
       "model_id": "a05fca732b534754bff53aefddef2586",
       "version_major": 2,
       "version_minor": 0
      },
      "text/plain": [
       "Preprocessing data:   0%|          | 0/8144 [00:00<?, ?it/s]"
      ]
     },
     "metadata": {},
     "output_type": "display_data"
    },
    {
     "name": "stdout",
     "output_type": "stream",
     "text": [
      "\n",
      "The initial batch size is 128 (16 classes * 8 examples per class) with 0 augmenters\n"
     ]
    },
    {
     "data": {
      "application/vnd.jupyter.widget-view+json": {
       "model_id": "6241b30d5078432eab57cf1641d020e4",
       "version_major": 2,
       "version_minor": 0
      },
      "text/plain": [
       "filtering examples:   0%|          | 0/8144 [00:00<?, ?it/s]"
      ]
     },
     "metadata": {},
     "output_type": "display_data"
    },
    {
     "data": {
      "application/vnd.jupyter.widget-view+json": {
       "model_id": "b26f57be66094e7a8a339e30f7b4c5d9",
       "version_major": 2,
       "version_minor": 0
      },
      "text/plain": [
       "selecting classes:   0%|          | 0/98 [00:00<?, ?it/s]"
      ]
     },
     "metadata": {},
     "output_type": "display_data"
    },
    {
     "data": {
      "application/vnd.jupyter.widget-view+json": {
       "model_id": "ccf2c7a542034af9a8eb36004b4360cb",
       "version_major": 2,
       "version_minor": 0
      },
      "text/plain": [
       "gather examples:   0%|          | 0/4106 [00:00<?, ?it/s]"
      ]
     },
     "metadata": {},
     "output_type": "display_data"
    },
    {
     "data": {
      "application/vnd.jupyter.widget-view+json": {
       "model_id": "f07c1b453ec4463083fcb6355b7a987b",
       "version_major": 2,
       "version_minor": 0
      },
      "text/plain": [
       "indexing classes:   0%|          | 0/4106 [00:00<?, ?it/s]"
      ]
     },
     "metadata": {},
     "output_type": "display_data"
    },
    {
     "data": {
      "application/vnd.jupyter.widget-view+json": {
       "model_id": "ce065688b4de4385833301aa4a65d57c",
       "version_major": 2,
       "version_minor": 0
      },
      "text/plain": [
       "converting test:   0%|          | 0/3669 [00:00<?, ?it/s]"
      ]
     },
     "metadata": {},
     "output_type": "display_data"
    },
    {
     "data": {
      "application/vnd.jupyter.widget-view+json": {
       "model_id": "c5708321aace4c438466567ded949b75",
       "version_major": 2,
       "version_minor": 0
      },
      "text/plain": [
       "Preprocessing data:   0%|          | 0/3669 [00:00<?, ?it/s]"
      ]
     },
     "metadata": {},
     "output_type": "display_data"
    },
    {
     "name": "stdout",
     "output_type": "stream",
     "text": [
      "\n",
      "The initial batch size is 32 (16 classes * 2 examples per class) with 0 augmenters\n"
     ]
    },
    {
     "data": {
      "application/vnd.jupyter.widget-view+json": {
       "model_id": "3774a35b613a47cb9995dc413ecc8c11",
       "version_major": 2,
       "version_minor": 0
      },
      "text/plain": [
       "filtering examples:   0%|          | 0/3669 [00:00<?, ?it/s]"
      ]
     },
     "metadata": {},
     "output_type": "display_data"
    },
    {
     "data": {
      "application/vnd.jupyter.widget-view+json": {
       "model_id": "3f5dda8155ac4c289597101d1266ebf1",
       "version_major": 2,
       "version_minor": 0
      },
      "text/plain": [
       "selecting classes:   0%|          | 0/37 [00:00<?, ?it/s]"
      ]
     },
     "metadata": {},
     "output_type": "display_data"
    },
    {
     "data": {
      "application/vnd.jupyter.widget-view+json": {
       "model_id": "7ee8f35188bf4d7da093ac4278a4d75a",
       "version_major": 2,
       "version_minor": 0
      },
      "text/plain": [
       "gather examples:   0%|          | 0/740 [00:00<?, ?it/s]"
      ]
     },
     "metadata": {},
     "output_type": "display_data"
    },
    {
     "data": {
      "application/vnd.jupyter.widget-view+json": {
       "model_id": "248e34cd7b694ac7bbfa5efd5310c86d",
       "version_major": 2,
       "version_minor": 0
      },
      "text/plain": [
       "indexing classes:   0%|          | 0/740 [00:00<?, ?it/s]"
      ]
     },
     "metadata": {},
     "output_type": "display_data"
    }
   ],
   "source": [
    "total_num_classes = 196\n",
    "training_classes = total_num_classes // 2 \n",
    "examples_per_class_per_batch = 8\n",
    "train_cls = random.sample(range(total_num_classes), k=training_classes)\n",
    "classes_per_batch = 16 # max(16, training_classes)\n",
    "target_img_size = 224  # Size of B0 image input\n",
    "\n",
    "print(f\"Class IDs seen during training {train_cls}\")\n",
    "\n",
    "def img_augmentation(img_batch, y, *args):\n",
    "    # random resize and crop. Increase the size before we crop.\n",
    "    img_batch = tf.keras.layers.RandomCrop(target_img_size, target_img_size)(img_batch)\n",
    "    # random horizontal flip\n",
    "    img_batch = tf.image.random_flip_left_right(img_batch)\n",
    "    return img_batch, y\n",
    "\n",
    "\n",
    "# use the train split for training\n",
    "train_ds = tfsim.samplers.TFDatasetMultiShotMemorySampler(\n",
    "    \"cars196\",\n",
    "    splits=\"train\",\n",
    "    examples_per_class_per_batch=examples_per_class_per_batch,\n",
    "    classes_per_batch=classes_per_batch,\n",
    "    preprocess_fn=functools.partial(resize, size=300),\n",
    "    class_list=train_cls,\n",
    "    augmenter=img_augmentation,\n",
    ")  # We filter train data to only keep the train classes.\n",
    "\n",
    "# use the test split for indexing and querying\n",
    "test_ds = tfsim.samplers.TFDatasetMultiShotMemorySampler(\n",
    "    \"oxford_iiit_pet\",\n",
    "    splits=\"test\",\n",
    "    total_examples_per_class=20,\n",
    "    classes_per_batch=classes_per_batch,\n",
    "    preprocess_fn=functools.partial(resize, size=300),\n",
    ")"
   ]
  },
  {
   "cell_type": "code",
   "execution_count": null,
   "id": "07551099-54ca-41c1-8f7f-7b2589a84224",
   "metadata": {},
   "outputs": [],
   "source": [
    "num_cols = num_rows = 5\n",
    "# Get the first 25 examples.\n",
    "x_slice, y_slice = test_ds.get_slice(begin=0, size=num_cols * num_rows)\n",
    "\n",
    "fig = plt.figure(figsize=(20.0, 20.0))\n",
    "grid = axes_grid1.ImageGrid(fig, 111, nrows_ncols=(num_cols, num_rows), axes_pad=0.1)\n",
    "\n",
    "for ax, im, label in zip(grid, x_slice/255., y_slice):\n",
    "    ax.imshow(im)\n",
    "    ax.axis(\"off\")"
   ]
  },
  {
   "cell_type": "code",
   "execution_count": 9,
   "id": "c9ba23d9-669a-4944-881f-dd5fe81b130d",
   "metadata": {},
   "outputs": [],
   "source": [
    "num_targets = 200\n",
    "num_queries = 300\n",
    "k = 1\n",
    "\n",
    "# Setup EvalCallback by splitting the test data into targets and queries.\n",
    "queries_x, queries_y = test_ds.get_slice(0, num_queries)\n",
    "targets_x, targets_y = test_ds.get_slice(num_queries, num_targets)\n",
    "# Setup SplitValidation callback.\n",
    "val_loss = tfsim.callbacks.EvalCallback(\n",
    "    queries_x,\n",
    "    tf.cast(queries_y, dtype=tf.dtypes.int32),\n",
    "    targets_x,\n",
    "    tf.cast(targets_y, dtype=tf.dtypes.int32),\n",
    "    metrics=[\"f1\", \"binary_accuracy\"],\n",
    "    known_classes=tf.constant(train_cls),\n",
    "    k=k,\n",
    ")\n",
    "\n",
    "callbacks = [\n",
    "    val_loss,\n",
    "]"
   ]
  },
  {
   "cell_type": "code",
   "execution_count": 13,
   "id": "8530dbf7-aa7f-4d61-b076-72dd29326166",
   "metadata": {},
   "outputs": [],
   "source": [
    "embedding_size = 128  # @param {type:\"integer\"}\n",
    "\n",
    "# building model\n",
    "model = tfsim.architectures.EfficientNetSim(\n",
    "    train_ds.example_shape, \n",
    "    embedding_size,\n",
    "    pooling=\"gem\",    # Can change to use `gem` -> GeneralizedMeanPooling2D\n",
    "    gem_p=3.0,        # Increase the contrast between activations in the feature map.\n",
    ")"
   ]
  },
  {
   "cell_type": "code",
   "execution_count": 14,
   "id": "6bc51200-a98e-4dbe-8ad2-82be02fb5a59",
   "metadata": {},
   "outputs": [
    {
     "name": "stdout",
     "output_type": "stream",
     "text": [
      "Distance metric automatically set to cosine use the distance arg to override.\n",
      "Epoch 1/20\n",
      "100/100 [==============================] - ETA: 0s - loss: 2.3432f1_known_classes: 0.8782 - binary_accuracy_known_classes: 0.7829 - f1_unknown_classes: 0.8152 - binary_accuracy_unknown_classes: 0.6880\n",
      "100/100 [==============================] - 33s 281ms/step - loss: 2.3432 - val_loss: 1.0508 - f1: 0.8152 - binary_accuracy: 0.6880\n",
      "Epoch 2/20\n",
      "100/100 [==============================] - ETA: 0s - loss: 2.3425f1_known_classes: 0.8710 - binary_accuracy_known_classes: 0.7714 - f1_unknown_classes: 0.8372 - binary_accuracy_unknown_classes: 0.7200\n",
      "100/100 [==============================] - 26s 257ms/step - loss: 2.3425 - val_loss: 1.0459 - f1: 0.8372 - binary_accuracy: 0.7200\n",
      "Epoch 3/20\n",
      "100/100 [==============================] - ETA: 0s - loss: 2.3462f1_known_classes: 0.8710 - binary_accuracy_known_classes: 0.7714 - f1_unknown_classes: 0.8426 - binary_accuracy_unknown_classes: 0.7280\n",
      "100/100 [==============================] - 26s 258ms/step - loss: 2.3462 - val_loss: 1.0504 - f1: 0.8426 - binary_accuracy: 0.7280\n",
      "Epoch 4/20\n",
      "100/100 [==============================] - ETA: 0s - loss: 2.3455f1_known_classes: 0.8746 - binary_accuracy_known_classes: 0.7771 - f1_unknown_classes: 0.8426 - binary_accuracy_unknown_classes: 0.7280\n",
      "100/100 [==============================] - 26s 257ms/step - loss: 2.3455 - val_loss: 1.0466 - f1: 0.8426 - binary_accuracy: 0.7280\n",
      "Epoch 5/20\n",
      "100/100 [==============================] - ETA: 0s - loss: 2.3433f1_known_classes: 0.8562 - binary_accuracy_known_classes: 0.7486 - f1_unknown_classes: 0.8426 - binary_accuracy_unknown_classes: 0.7280\n",
      "100/100 [==============================] - 26s 257ms/step - loss: 2.3433 - val_loss: 1.0545 - f1: 0.8426 - binary_accuracy: 0.7280\n",
      "Epoch 6/20\n",
      "100/100 [==============================] - ETA: 0s - loss: 2.3418f1_known_classes: 0.8636 - binary_accuracy_known_classes: 0.7600 - f1_unknown_classes: 0.8318 - binary_accuracy_unknown_classes: 0.7120\n",
      "100/100 [==============================] - 26s 256ms/step - loss: 2.3418 - val_loss: 1.0445 - f1: 0.8318 - binary_accuracy: 0.7120\n",
      "Epoch 7/20\n",
      "100/100 [==============================] - ETA: 0s - loss: 2.3412f1_known_classes: 0.8746 - binary_accuracy_known_classes: 0.7771 - f1_unknown_classes: 0.8479 - binary_accuracy_unknown_classes: 0.7360\n",
      "100/100 [==============================] - 26s 257ms/step - loss: 2.3412 - val_loss: 1.0555 - f1: 0.8479 - binary_accuracy: 0.7360\n",
      "Epoch 8/20\n",
      "100/100 [==============================] - ETA: 0s - loss: 2.3402f1_known_classes: 0.8562 - binary_accuracy_known_classes: 0.7486 - f1_unknown_classes: 0.8532 - binary_accuracy_unknown_classes: 0.7440\n",
      "100/100 [==============================] - 26s 254ms/step - loss: 2.3402 - val_loss: 1.0598 - f1: 0.8532 - binary_accuracy: 0.7440\n",
      "Epoch 9/20\n",
      "100/100 [==============================] - ETA: 0s - loss: 2.3394f1_known_classes: 0.8818 - binary_accuracy_known_classes: 0.7886 - f1_unknown_classes: 0.8532 - binary_accuracy_unknown_classes: 0.7440\n",
      "100/100 [==============================] - 26s 256ms/step - loss: 2.3394 - val_loss: 1.0609 - f1: 0.8532 - binary_accuracy: 0.7440\n",
      "Epoch 10/20\n",
      "100/100 [==============================] - ETA: 0s - loss: 2.3355f1_known_classes: 0.8782 - binary_accuracy_known_classes: 0.7829 - f1_unknown_classes: 0.8479 - binary_accuracy_unknown_classes: 0.7360\n",
      "100/100 [==============================] - 26s 255ms/step - loss: 2.3355 - val_loss: 1.0727 - f1: 0.8479 - binary_accuracy: 0.7360\n",
      "Epoch 11/20\n",
      "100/100 [==============================] - ETA: 0s - loss: 2.3347f1_known_classes: 0.8782 - binary_accuracy_known_classes: 0.7829 - f1_unknown_classes: 0.8532 - binary_accuracy_unknown_classes: 0.7440\n",
      "100/100 [==============================] - 26s 256ms/step - loss: 2.3347 - val_loss: 1.0603 - f1: 0.8532 - binary_accuracy: 0.7440\n",
      "Epoch 12/20\n",
      "100/100 [==============================] - ETA: 0s - loss: 2.3334f1_known_classes: 0.8782 - binary_accuracy_known_classes: 0.7829 - f1_unknown_classes: 0.8532 - binary_accuracy_unknown_classes: 0.7440\n",
      "100/100 [==============================] - 26s 257ms/step - loss: 2.3334 - val_loss: 1.0725 - f1: 0.8532 - binary_accuracy: 0.7440\n",
      "Epoch 13/20\n",
      "100/100 [==============================] - ETA: 0s - loss: 2.3331f1_known_classes: 0.8782 - binary_accuracy_known_classes: 0.7829 - f1_unknown_classes: 0.8479 - binary_accuracy_unknown_classes: 0.7360\n",
      "100/100 [==============================] - 26s 258ms/step - loss: 2.3331 - val_loss: 1.0717 - f1: 0.8479 - binary_accuracy: 0.7360\n",
      "Epoch 14/20\n",
      "100/100 [==============================] - ETA: 0s - loss: 2.3286f1_known_classes: 0.8818 - binary_accuracy_known_classes: 0.7886 - f1_unknown_classes: 0.8372 - binary_accuracy_unknown_classes: 0.7200\n",
      "100/100 [==============================] - 26s 255ms/step - loss: 2.3286 - val_loss: 1.0919 - f1: 0.8372 - binary_accuracy: 0.7200\n",
      "Epoch 15/20\n",
      "100/100 [==============================] - ETA: 0s - loss: 2.3292f1_known_classes: 0.8782 - binary_accuracy_known_classes: 0.7829 - f1_unknown_classes: 0.8318 - binary_accuracy_unknown_classes: 0.7120\n",
      "100/100 [==============================] - 26s 257ms/step - loss: 2.3292 - val_loss: 1.1034 - f1: 0.8318 - binary_accuracy: 0.7120\n",
      "Epoch 16/20\n",
      "100/100 [==============================] - ETA: 0s - loss: 2.3268f1_known_classes: 0.8673 - binary_accuracy_known_classes: 0.7657 - f1_unknown_classes: 0.8208 - binary_accuracy_unknown_classes: 0.6960\n",
      "100/100 [==============================] - 26s 256ms/step - loss: 2.3268 - val_loss: 1.0968 - f1: 0.8208 - binary_accuracy: 0.6960\n",
      "Epoch 17/20\n",
      "100/100 [==============================] - ETA: 0s - loss: 2.3296f1_known_classes: 0.8599 - binary_accuracy_known_classes: 0.7543 - f1_unknown_classes: 0.8318 - binary_accuracy_unknown_classes: 0.7120\n",
      "100/100 [==============================] - 26s 257ms/step - loss: 2.3296 - val_loss: 1.1074 - f1: 0.8318 - binary_accuracy: 0.7120\n",
      "Epoch 18/20\n",
      "100/100 [==============================] - ETA: 0s - loss: 2.3277f1_known_classes: 0.8636 - binary_accuracy_known_classes: 0.7600 - f1_unknown_classes: 0.8208 - binary_accuracy_unknown_classes: 0.6960\n",
      "100/100 [==============================] - 26s 256ms/step - loss: 2.3277 - val_loss: 1.0932 - f1: 0.8208 - binary_accuracy: 0.6960\n",
      "Epoch 19/20\n",
      "100/100 [==============================] - ETA: 0s - loss: 2.3280f1_known_classes: 0.8487 - binary_accuracy_known_classes: 0.7371 - f1_unknown_classes: 0.8263 - binary_accuracy_unknown_classes: 0.7040\n",
      "100/100 [==============================] - 26s 255ms/step - loss: 2.3280 - val_loss: 1.1043 - f1: 0.8263 - binary_accuracy: 0.7040\n",
      "Epoch 20/20\n",
      "100/100 [==============================] - ETA: 0s - loss: 2.3224f1_known_classes: 0.8525 - binary_accuracy_known_classes: 0.7429 - f1_unknown_classes: 0.8095 - binary_accuracy_unknown_classes: 0.6800\n",
      "100/100 [==============================] - 26s 255ms/step - loss: 2.3224 - val_loss: 1.1121 - f1: 0.8095 - binary_accuracy: 0.6800\n"
     ]
    }
   ],
   "source": [
    "epochs = 20\n",
    "LR = 0.0001\n",
    "steps_per_epoch = 100\n",
    "val_steps = 50\n",
    "\n",
    "\n",
    "# init similarity loss\n",
    "distance = \"cosine\"\n",
    "loss = tfsim.losses.MultiSimilarityLoss(distance=distance)\n",
    "\n",
    "# compiling and training\n",
    "model.compile(optimizer=tf.keras.optimizers.Adam(LR), loss=loss)\n",
    "history = model.fit(\n",
    "    train_ds,\n",
    "    epochs=epochs,\n",
    "    steps_per_epoch=steps_per_epoch,\n",
    "    validation_data=test_ds,\n",
    "    validation_steps=val_steps,\n",
    "    callbacks=callbacks,\n",
    ")"
   ]
  },
  {
   "cell_type": "code",
   "execution_count": 16,
   "id": "636a5448-4549-4435-a5c9-c48d2e3d220e",
   "metadata": {},
   "outputs": [
    {
     "data": {
      "image/png": "[encoded data removed]",
      "text/plain": [
       "<Figure size 432x288 with 1 Axes>"
      ]
     },
     "metadata": {
      "needs_background": "light"
     },
     "output_type": "display_data"
    }
   ],
   "source": [
    "plt.plot(history.history[\"loss\"])\n",
    "plt.plot(history.history[\"val_loss\"])\n",
    "plt.legend([\"loss\", \"val_loss\"])\n",
    "plt.title(f\"Loss: {loss.name} - LR: {LR}\")\n",
    "plt.show()"
   ]
  },
  {
   "cell_type": "code",
   "execution_count": null,
   "id": "8357f2c2-bc4a-4c13-90d5-d747ffc9ba3e",
   "metadata": {},
   "outputs": [],
   "source": []
  }
 ],
 "metadata": {
  "environment": {
   "kernel": "tfsim",
   "name": "tf2-gpu.2-7.m87",
   "type": "gcloud",
   "uri": "gcr.io/deeplearning-platform-release/tf2-gpu.2-7:m87"
  },
  "kernelspec": {
   "display_name": "TF Sim",
   "language": "python",
   "name": "tfsim"
  },
  "language_info": {
   "codemirror_mode": {
    "name": "ipython",
    "version": 3
   },
   "file_extension": ".py",
   "mimetype": "text/x-python",
   "name": "python",
   "nbconvert_exporter": "python",
   "pygments_lexer": "ipython3",
   "version": "3.7.12"
  }
 },
 "nbformat": 4,
 "nbformat_minor": 5
}
